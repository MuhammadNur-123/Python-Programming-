{
 "cells": [
  {
   "cell_type": "code",
   "execution_count": 1,
   "id": "13eb7e47",
   "metadata": {},
   "outputs": [
    {
     "name": "stdout",
     "output_type": "stream",
     "text": [
      "Enter the year (e.g., 2023): 5678\n",
      "Enter the month (1-12): 8\n",
      "Calendar for August 5678:\n",
      "\n",
      "    August 5678\n",
      "Mo Tu We Th Fr Sa Su\n",
      " 1  2  3  4  5  6  7\n",
      " 8  9 10 11 12 13 14\n",
      "15 16 17 18 19 20 21\n",
      "22 23 24 25 26 27 28\n",
      "29 30 31\n",
      "\n"
     ]
    }
   ],
   "source": [
    "import calendar\n",
    "\n",
    "def display_calendar(year, month):\n",
    "    cal = calendar.month(year, month)\n",
    "    print(f\"Calendar for {calendar.month_name[month]} {year}:\\n\")\n",
    "    print(cal)\n",
    "\n",
    "# Example usage:\n",
    "year_input = int(input(\"Enter the year (e.g., 2023): \"))\n",
    "month_input = int(input(\"Enter the month (1-12): \"))\n",
    "\n",
    "display_calendar(year_input, month_input)\n"
   ]
  },
  {
   "cell_type": "code",
   "execution_count": 2,
   "id": "d4f815d6",
   "metadata": {},
   "outputs": [
    {
     "name": "stdout",
     "output_type": "stream",
     "text": [
      "Requirement already satisfied: phonenumbers in c:\\users\\it bd\\anaconda3\\lib\\site-packages (8.13.26)\n",
      "Note: you may need to restart the kernel to use updated packages.\n"
     ]
    }
   ],
   "source": [
    "pip install phonenumbers\n"
   ]
  },
  {
   "cell_type": "code",
   "execution_count": 3,
   "id": "c8b1ffa4",
   "metadata": {},
   "outputs": [
    {
     "name": "stdout",
     "output_type": "stream",
     "text": [
      "The phone number is from: Bangladesh\n"
     ]
    }
   ],
   "source": [
    "import phonenumbers\n",
    "from phonenumbers import geocoder\n",
    "\n",
    "def get_phone_number_location(phone_number):\n",
    "    try:\n",
    "        parsed_number = phonenumbers.parse(phone_number, None)\n",
    "        if not phonenumbers.is_valid_number(parsed_number):\n",
    "            return \"Invalid phone number\"\n",
    "\n",
    "        region = geocoder.description_for_number(parsed_number, \"en\")\n",
    "        return f\"The phone number is from: {region}\"\n",
    "    \n",
    "    except phonenumbers.phonenumberutil.NumberParseException as e:\n",
    "        return f\"Error: {e}\"\n",
    "\n",
    "# Example phone number (replace this with the desired phone number)\n",
    "phone_number = \"+8801981706084\"\n",
    "\n",
    "location = get_phone_number_location(phone_number)\n",
    "print(location)\n"
   ]
  },
  {
   "cell_type": "markdown",
   "id": "c2d5e0c8",
   "metadata": {},
   "source": [
    "# Snck Game"
   ]
  },
  {
   "cell_type": "code",
   "execution_count": 4,
   "id": "7ce78e78",
   "metadata": {},
   "outputs": [
    {
     "name": "stdout",
     "output_type": "stream",
     "text": [
      "Requirement already satisfied: pygame in c:\\users\\it bd\\anaconda3\\lib\\site-packages (2.5.2)\n",
      "Note: you may need to restart the kernel to use updated packages.\n"
     ]
    }
   ],
   "source": [
    "pip install pygame\n"
   ]
  },
  {
   "cell_type": "code",
   "execution_count": null,
   "id": "3ff46e25",
   "metadata": {},
   "outputs": [
    {
     "name": "stdout",
     "output_type": "stream",
     "text": [
      "pygame 2.5.2 (SDL 2.28.3, Python 3.11.4)\n",
      "Hello from the pygame community. https://www.pygame.org/contribute.html\n"
     ]
    }
   ],
   "source": [
    "import pygame\n",
    "import time\n",
    "import random\n",
    "# Initialize Pygame\n",
    "pygame.init()\n",
    "\n",
    "# Set up the window dimensions\n",
    "width, height = 640, 480\n",
    "win = pygame.display.set_mode((width, height))\n",
    "pygame.display.set_caption('Snake Game')\n",
    "\n",
    "# Colors\n",
    "black = (0, 0, 0)\n",
    "white = (255, 255, 255)\n",
    "red = (213, 50, 80)\n",
    "green = (0, 255, 0)\n",
    "blue = (50, 153, 213)\n",
    "\n",
    "# Snake and food variables\n",
    "snake_block = 10\n",
    "snake_speed = 5\n",
    "\n",
    "# Clock to control the game's speed\n",
    "clock = pygame.time.Clock()\n",
    "\n",
    "# Font for displaying text\n",
    "font_style = pygame.font.SysFont(\"bahnschrift\", 25)\n",
    "def our_snake(block, snake_list):\n",
    "    for x in snake_list:\n",
    "        pygame.draw.rect(win, green, [x[0], x[1], block, block])\n",
    "def game_loop():\n",
    "    game_over = False\n",
    "    game_close = False\n",
    "\n",
    "    # Initial position of the snake\n",
    "    x1, y1 = width / 2, height / 2\n",
    "    x1_change, y1_change = 0, 0\n",
    "\n",
    "    snake_List = []\n",
    "    Length_of_snake = 1\n",
    "\n",
    "    # Food position\n",
    "    foodx = round(random.randrange(0, width - snake_block) / 10.0) * 10.0\n",
    "    foody = round(random.randrange(0, height - snake_block) / 10.0) * 10.0\n",
    "\n",
    "    while not game_over:\n",
    "\n",
    "        while game_close == True:\n",
    "            win.fill(blue)\n",
    "            game_over_font = font_style.render(\"Game Over! Press Q-Quit or C-Play Again\", True, red)\n",
    "            win.blit(game_over_font, [width / 6, height / 3])\n",
    "            pygame.display.update()\n",
    "\n",
    "            for event in pygame.event.get():\n",
    "                if event.type == pygame.KEYDOWN:\n",
    "                    if event.key == pygame.K_q:\n",
    "                        game_over = True\n",
    "                        game_close = False\n",
    "                    if event.key == pygame.K_c:\n",
    "                        game_loop()\n",
    "\n",
    "        for event in pygame.event.get():\n",
    "            if event.type == pygame.QUIT:\n",
    "                game_over = True\n",
    "            if event.type == pygame.KEYDOWN:\n",
    "                if event.key == pygame.K_LEFT:\n",
    "                    x1_change = -snake_block\n",
    "                    y1_change = 0\n",
    "                elif event.key == pygame.K_RIGHT:\n",
    "                    x1_change = snake_block\n",
    "                    y1_change = 0\n",
    "                elif event.key == pygame.K_UP:\n",
    "                    y1_change = -snake_block\n",
    "                    x1_change = 0\n",
    "                elif event.key == pygame.K_DOWN:\n",
    "                    y1_change = snake_block\n",
    "                    x1_change = 0\n",
    "\n",
    "        # Update snake's position\n",
    "        x1 += x1_change\n",
    "        y1 += y1_change\n",
    "\n",
    "        win.fill(black)\n",
    "        pygame.draw.rect(win, red, [foodx, foody, snake_block, snake_block])\n",
    "        snake_Head = []\n",
    "        snake_Head.append(x1)\n",
    "        snake_Head.append(y1)\n",
    "        snake_List.append(snake_Head)\n",
    "        if len(snake_List) > Length_of_snake:\n",
    "            del snake_List[0]\n",
    "\n",
    "        for x in snake_List[:-1]:\n",
    "            if x == snake_Head:\n",
    "                game_close = True\n",
    "\n",
    "        our_snake(snake_block, snake_List)\n",
    "\n",
    "        # Check if the snake eats the food\n",
    "        if x1 == foodx and y1 == foody:\n",
    "            foodx = round(random.randrange(0, width - snake_block) / 10.0) * 10.0\n",
    "            foody = round(random.randrange(0, height - snake_block) / 10.0) * 10.0\n",
    "            Length_of_snake += 1\n",
    "\n",
    "        pygame.display.update()\n",
    "\n",
    "        # Boundaries for the snake hitting the wall\n",
    "        if x1 >= width or x1 < 0 or y1 >= height or y1 < 0:\n",
    "            game_close = True\n",
    "\n",
    "        clock.tick(snake_speed)\n",
    "\n",
    "    pygame.quit()\n",
    "    quit()\n",
    "\n",
    "\n",
    "game_loop()"
   ]
  },
  {
   "cell_type": "markdown",
   "id": "4e0326aa",
   "metadata": {},
   "source": [
    "# Log in from"
   ]
  },
  {
   "cell_type": "code",
   "execution_count": null,
   "id": "d2af3bcc",
   "metadata": {},
   "outputs": [],
   "source": [
    "import getpass\n",
    "\n",
    "def login():\n",
    "    username = input(\"Enter your username: \")\n",
    "    password = getpass.getpass(\"Enter your password: \")\n",
    "\n",
    "    # You can add your validation logic here\n",
    "    # For example, checking if the username and password are correct\n",
    "    # For demonstration purposes, let's just print the entered credentials\n",
    "    print(f\"Entered Username: {username}\")\n",
    "    print(f\"Entered Password: {password}\")\n",
    "\n",
    "    # Add your authentication logic here\n",
    "    # E.g., checking against a database, file, or API\n",
    "    \n",
    "    # Simulate a successful login for demonstration purposes\n",
    "    return True\n",
    "\n",
    "if __name__ == \"__main__\":\n",
    "    logged_in = False\n",
    "    while not logged_in:\n",
    "        logged_in = login()\n",
    "    print(\"Login successful!\")\n"
   ]
  },
  {
   "cell_type": "markdown",
   "id": "e92900f3",
   "metadata": {},
   "source": [
    "# Qr code "
   ]
  },
  {
   "cell_type": "code",
   "execution_count": 2,
   "id": "3f0ea76d",
   "metadata": {},
   "outputs": [
    {
     "name": "stdout",
     "output_type": "stream",
     "text": [
      "Requirement already satisfied: qrcode in c:\\users\\it bd\\appdata\\roaming\\python\\python311\\site-packages (7.4.2)\n",
      "Requirement already satisfied: typing-extensions in c:\\users\\it bd\\appdata\\roaming\\python\\python311\\site-packages (from qrcode) (4.6.3)\n",
      "Requirement already satisfied: pypng in c:\\users\\it bd\\appdata\\roaming\\python\\python311\\site-packages (from qrcode) (0.20220715.0)\n",
      "Requirement already satisfied: colorama in c:\\users\\it bd\\appdata\\roaming\\python\\python311\\site-packages (from qrcode) (0.4.6)\n",
      "Note: you may need to restart the kernel to use updated packages.\n"
     ]
    }
   ],
   "source": [
    "pip install qrcode\n"
   ]
  },
  {
   "cell_type": "code",
   "execution_count": 1,
   "id": "ec9c3d4d",
   "metadata": {},
   "outputs": [],
   "source": [
    "import qrcode\n",
    "\n",
    "# Function to generate QR code\n",
    "def generate_qr_code(data, file_name):\n",
    "    # Create QR code instance\n",
    "    qr = qrcode.QRCode(\n",
    "        version=1,\n",
    "        error_correction=qrcode.constants.ERROR_CORRECT_H,\n",
    "        box_size=10,\n",
    "        border=4,\n",
    "    )\n",
    "    \n",
    "    # Add data to the QR code\n",
    "    qr.add_data(data)\n",
    "    qr.make(fit=True)\n",
    "    \n",
    "    # Create an image from the QR code instance\n",
    "    img = qr.make_image(fill_color=\"black\", back_color=\"white\")\n",
    "    \n",
    "    # Save the image file\n",
    "    img.save(file_name)\n",
    "\n",
    "# Example data and file name\n",
    "data_to_encode = \"https://www.facebook.com/sani.islam.5055?mibextid=ZbWKwL\"  # Replace this with your data\n",
    "file_name = \"sakib-sani-fb.png\"  # Replace this with your desired file name\n",
    "\n",
    "# Generate QR code and save it as an image file\n",
    "generate_qr_code(data_to_encode, file_name)\n"
   ]
  },
  {
   "cell_type": "code",
   "execution_count": null,
   "id": "82ae6156",
   "metadata": {},
   "outputs": [],
   "source": []
  }
 ],
 "metadata": {
  "kernelspec": {
   "display_name": "Python 3 (ipykernel)",
   "language": "python",
   "name": "python3"
  },
  "language_info": {
   "codemirror_mode": {
    "name": "ipython",
    "version": 3
   },
   "file_extension": ".py",
   "mimetype": "text/x-python",
   "name": "python",
   "nbconvert_exporter": "python",
   "pygments_lexer": "ipython3",
   "version": "3.11.4"
  }
 },
 "nbformat": 4,
 "nbformat_minor": 5
}
