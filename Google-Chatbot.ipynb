{
 "cells": [
  {
   "cell_type": "code",
   "execution_count": null,
   "id": "aceb761d",
   "metadata": {},
   "outputs": [
    {
     "name": "stdout",
     "output_type": "stream",
     "text": [
      "Waiting for your question...\n",
      "Say something:\n",
      "You said: hi YouTube\n",
      "Waiting for your question...\n",
      "Say something:\n",
      "Could not understand audio\n",
      "Waiting for your question...\n",
      "Say something:\n",
      "Could not understand audio\n",
      "Waiting for your question...\n",
      "Say something:\n",
      "Could not understand audio\n",
      "Waiting for your question...\n",
      "Say something:\n"
     ]
    }
   ],
   "source": [
    "import speech_recognition as sr\n",
    "import webbrowser\n",
    "\n",
    "def get_audio():\n",
    "    recognizer = sr.Recognizer()\n",
    "    with sr.Microphone() as source:\n",
    "        print(\"Say something:\")\n",
    "        recognizer.adjust_for_ambient_noise(source)  \n",
    "        audio = recognizer.listen(source)\n",
    "\n",
    "    try:\n",
    "        text = recognizer.recognize_google(audio)\n",
    "        print(\"You said:\", text)\n",
    "        return text\n",
    "    except sr.UnknownValueError:\n",
    "        print(\"Could not understand audio\")\n",
    "        return \"\"\n",
    "    except sr.RequestError as e:\n",
    "        print(\"Could not request results; {0}\".format(e))\n",
    "        return \"\"\n",
    "\n",
    "def search_google(query):\n",
    "    url = f\"https://www.google.com/search?q={query}\"\n",
    "    webbrowser.open_new_tab(url)\n",
    "\n",
    "\n",
    "while True:\n",
    "    print(\"Waiting for your question...\")\n",
    "    query = get_audio()\n",
    "    if query.lower() == \"exit\":\n",
    "        print(\"Exiting...\")\n",
    "        break\n",
    "    search_google(query)\n"
   ]
  },
  {
   "cell_type": "code",
   "execution_count": null,
   "id": "83866a6a",
   "metadata": {},
   "outputs": [],
   "source": []
  }
 ],
 "metadata": {
  "kernelspec": {
   "display_name": "Python 3 (ipykernel)",
   "language": "python",
   "name": "python3"
  },
  "language_info": {
   "codemirror_mode": {
    "name": "ipython",
    "version": 3
   },
   "file_extension": ".py",
   "mimetype": "text/x-python",
   "name": "python",
   "nbconvert_exporter": "python",
   "pygments_lexer": "ipython3",
   "version": "3.11.5"
  }
 },
 "nbformat": 4,
 "nbformat_minor": 5
}
